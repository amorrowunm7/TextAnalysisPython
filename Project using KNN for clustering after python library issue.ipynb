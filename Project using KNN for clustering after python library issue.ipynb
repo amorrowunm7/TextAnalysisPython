{
 "cells": [
  {
   "cell_type": "code",
   "execution_count": 129,
   "metadata": {},
   "outputs": [],
   "source": [
    "\n",
    "import graphlab as gl\n"
   ]
  },
  {
   "cell_type": "code",
   "execution_count": 130,
   "metadata": {},
   "outputs": [
    {
     "data": {
      "text/html": [
       "<pre>Finished parsing file /Users/amandamorrow/Documents/working/edgesH.2.csv</pre>"
      ],
      "text/plain": [
       "Finished parsing file /Users/amandamorrow/Documents/working/edgesH.2.csv"
      ]
     },
     "metadata": {},
     "output_type": "display_data"
    },
    {
     "data": {
      "text/html": [
       "<pre>Parsing completed. Parsed 100 lines in 0.143259 secs.</pre>"
      ],
      "text/plain": [
       "Parsing completed. Parsed 100 lines in 0.143259 secs."
      ]
     },
     "metadata": {},
     "output_type": "display_data"
    },
    {
     "name": "stdout",
     "output_type": "stream",
     "text": [
      "------------------------------------------------------\n",
      "Inferred types from first 100 line(s) of file as \n",
      "column_type_hints=[int,int]\n",
      "If parsing fails due to incorrect types, you can correct\n",
      "the inferred type list above and pass it to read_csv in\n",
      "the column_type_hints argument\n",
      "------------------------------------------------------\n"
     ]
    },
    {
     "data": {
      "text/html": [
       "<pre>Finished parsing file /Users/amandamorrow/Documents/working/edgesH.2.csv</pre>"
      ],
      "text/plain": [
       "Finished parsing file /Users/amandamorrow/Documents/working/edgesH.2.csv"
      ]
     },
     "metadata": {},
     "output_type": "display_data"
    },
    {
     "data": {
      "text/html": [
       "<pre>Parsing completed. Parsed 44534 lines in 0.037591 secs.</pre>"
      ],
      "text/plain": [
       "Parsing completed. Parsed 44534 lines in 0.037591 secs."
      ]
     },
     "metadata": {},
     "output_type": "display_data"
    }
   ],
   "source": [
    "\n",
    "gedges = gl.SFrame.read_csv('edgesH.2.csv')"
   ]
  },
  {
   "cell_type": "code",
   "execution_count": 131,
   "metadata": {},
   "outputs": [],
   "source": [
    "# Create graph\n",
    "g = gl.SGraph()\n",
    "g = g.add_vertices(vertices=gedges, vid_field='src')\n",
    "g = g.add_edges(edges=gedges, src_field='src', dst_field='dst')\n",
    "g = g.add_edges(edges=gedges, src_field='dst', dst_field='src')"
   ]
  },
  {
   "cell_type": "code",
   "execution_count": 26,
   "metadata": {},
   "outputs": [
    {
     "data": {
      "text/html": [
       "<pre>Counting out degree</pre>"
      ],
      "text/plain": [
       "Counting out degree"
      ]
     },
     "metadata": {},
     "output_type": "display_data"
    },
    {
     "data": {
      "text/html": [
       "<pre>Done counting out degree</pre>"
      ],
      "text/plain": [
       "Done counting out degree"
      ]
     },
     "metadata": {},
     "output_type": "display_data"
    },
    {
     "data": {
      "text/html": [
       "<pre>+-----------+-----------------------+</pre>"
      ],
      "text/plain": [
       "+-----------+-----------------------+"
      ]
     },
     "metadata": {},
     "output_type": "display_data"
    },
    {
     "data": {
      "text/html": [
       "<pre>| Iteration | L1 change in pagerank |</pre>"
      ],
      "text/plain": [
       "| Iteration | L1 change in pagerank |"
      ]
     },
     "metadata": {},
     "output_type": "display_data"
    },
    {
     "data": {
      "text/html": [
       "<pre>+-----------+-----------------------+</pre>"
      ],
      "text/plain": [
       "+-----------+-----------------------+"
      ]
     },
     "metadata": {},
     "output_type": "display_data"
    },
    {
     "data": {
      "text/html": [
       "<pre>| 1         | 52979.5               |</pre>"
      ],
      "text/plain": [
       "| 1         | 52979.5               |"
      ]
     },
     "metadata": {},
     "output_type": "display_data"
    },
    {
     "data": {
      "text/html": [
       "<pre>| 2         | 44809.1               |</pre>"
      ],
      "text/plain": [
       "| 2         | 44809.1               |"
      ]
     },
     "metadata": {},
     "output_type": "display_data"
    },
    {
     "data": {
      "text/html": [
       "<pre>| 3         | 37902.4               |</pre>"
      ],
      "text/plain": [
       "| 3         | 37902.4               |"
      ]
     },
     "metadata": {},
     "output_type": "display_data"
    },
    {
     "data": {
      "text/html": [
       "<pre>| 4         | 31995.9               |</pre>"
      ],
      "text/plain": [
       "| 4         | 31995.9               |"
      ]
     },
     "metadata": {},
     "output_type": "display_data"
    },
    {
     "data": {
      "text/html": [
       "<pre>| 5         | 27014.2               |</pre>"
      ],
      "text/plain": [
       "| 5         | 27014.2               |"
      ]
     },
     "metadata": {},
     "output_type": "display_data"
    },
    {
     "data": {
      "text/html": [
       "<pre>| 6         | 22775                 |</pre>"
      ],
      "text/plain": [
       "| 6         | 22775                 |"
      ]
     },
     "metadata": {},
     "output_type": "display_data"
    },
    {
     "data": {
      "text/html": [
       "<pre>| 7         | 19204                 |</pre>"
      ],
      "text/plain": [
       "| 7         | 19204                 |"
      ]
     },
     "metadata": {},
     "output_type": "display_data"
    },
    {
     "data": {
      "text/html": [
       "<pre>| 8         | 16176.3               |</pre>"
      ],
      "text/plain": [
       "| 8         | 16176.3               |"
      ]
     },
     "metadata": {},
     "output_type": "display_data"
    },
    {
     "data": {
      "text/html": [
       "<pre>| 9         | 13627.9               |</pre>"
      ],
      "text/plain": [
       "| 9         | 13627.9               |"
      ]
     },
     "metadata": {},
     "output_type": "display_data"
    },
    {
     "data": {
      "text/html": [
       "<pre>| 10        | 11472.6               |</pre>"
      ],
      "text/plain": [
       "| 10        | 11472.6               |"
      ]
     },
     "metadata": {},
     "output_type": "display_data"
    },
    {
     "data": {
      "text/html": [
       "<pre>| 11        | 9659.36               |</pre>"
      ],
      "text/plain": [
       "| 11        | 9659.36               |"
      ]
     },
     "metadata": {},
     "output_type": "display_data"
    },
    {
     "data": {
      "text/html": [
       "<pre>| 12        | 8128.52               |</pre>"
      ],
      "text/plain": [
       "| 12        | 8128.52               |"
      ]
     },
     "metadata": {},
     "output_type": "display_data"
    },
    {
     "data": {
      "text/html": [
       "<pre>| 13        | 6840.96               |</pre>"
      ],
      "text/plain": [
       "| 13        | 6840.96               |"
      ]
     },
     "metadata": {},
     "output_type": "display_data"
    },
    {
     "data": {
      "text/html": [
       "<pre>| 14        | 5755.27               |</pre>"
      ],
      "text/plain": [
       "| 14        | 5755.27               |"
      ]
     },
     "metadata": {},
     "output_type": "display_data"
    },
    {
     "data": {
      "text/html": [
       "<pre>| 15        | 4842.26               |</pre>"
      ],
      "text/plain": [
       "| 15        | 4842.26               |"
      ]
     },
     "metadata": {},
     "output_type": "display_data"
    },
    {
     "data": {
      "text/html": [
       "<pre>| 16        | 4073.05               |</pre>"
      ],
      "text/plain": [
       "| 16        | 4073.05               |"
      ]
     },
     "metadata": {},
     "output_type": "display_data"
    },
    {
     "data": {
      "text/html": [
       "<pre>| 17        | 3426.24               |</pre>"
      ],
      "text/plain": [
       "| 17        | 3426.24               |"
      ]
     },
     "metadata": {},
     "output_type": "display_data"
    },
    {
     "data": {
      "text/html": [
       "<pre>| 18        | 2881.63               |</pre>"
      ],
      "text/plain": [
       "| 18        | 2881.63               |"
      ]
     },
     "metadata": {},
     "output_type": "display_data"
    },
    {
     "data": {
      "text/html": [
       "<pre>| 19        | 2423.69               |</pre>"
      ],
      "text/plain": [
       "| 19        | 2423.69               |"
      ]
     },
     "metadata": {},
     "output_type": "display_data"
    },
    {
     "data": {
      "text/html": [
       "<pre>| 20        | 2038.28               |</pre>"
      ],
      "text/plain": [
       "| 20        | 2038.28               |"
      ]
     },
     "metadata": {},
     "output_type": "display_data"
    },
    {
     "data": {
      "text/html": [
       "<pre>+-----------+-----------------------+</pre>"
      ],
      "text/plain": [
       "+-----------+-----------------------+"
      ]
     },
     "metadata": {},
     "output_type": "display_data"
    },
    {
     "data": {
      "text/html": [
       "<div style=\"max-height:1000px;max-width:1500px;overflow:auto;\"><table frame=\"box\" rules=\"cols\">\n",
       "    <tr>\n",
       "        <th style=\"padding-left: 1em; padding-right: 1em; text-align: center\">__id</th>\n",
       "        <th style=\"padding-left: 1em; padding-right: 1em; text-align: center\">pagerank</th>\n",
       "        <th style=\"padding-left: 1em; padding-right: 1em; text-align: center\">delta</th>\n",
       "    </tr>\n",
       "    <tr>\n",
       "        <td style=\"padding-left: 1em; padding-right: 1em; text-align: center; vertical-align: top\">10168082</td>\n",
       "        <td style=\"padding-left: 1em; padding-right: 1em; text-align: center; vertical-align: top\">11390.7365588</td>\n",
       "        <td style=\"padding-left: 1em; padding-right: 1em; text-align: center; vertical-align: top\">765.131972302</td>\n",
       "    </tr>\n",
       "    <tr>\n",
       "        <td style=\"padding-left: 1em; padding-right: 1em; text-align: center; vertical-align: top\">15757578</td>\n",
       "        <td style=\"padding-left: 1em; padding-right: 1em; text-align: center; vertical-align: top\">280.382153589</td>\n",
       "        <td style=\"padding-left: 1em; padding-right: 1em; text-align: center; vertical-align: top\">26.9200780757</td>\n",
       "    </tr>\n",
       "    <tr>\n",
       "        <td style=\"padding-left: 1em; padding-right: 1em; text-align: center; vertical-align: top\">34694337</td>\n",
       "        <td style=\"padding-left: 1em; padding-right: 1em; text-align: center; vertical-align: top\">185.861867928</td>\n",
       "        <td style=\"padding-left: 1em; padding-right: 1em; text-align: center; vertical-align: top\">17.7656652876</td>\n",
       "    </tr>\n",
       "    <tr>\n",
       "        <td style=\"padding-left: 1em; padding-right: 1em; text-align: center; vertical-align: top\">18089606</td>\n",
       "        <td style=\"padding-left: 1em; padding-right: 1em; text-align: center; vertical-align: top\">184.568349558</td>\n",
       "        <td style=\"padding-left: 1em; padding-right: 1em; text-align: center; vertical-align: top\">17.4025579678</td>\n",
       "    </tr>\n",
       "    <tr>\n",
       "        <td style=\"padding-left: 1em; padding-right: 1em; text-align: center; vertical-align: top\">398886217</td>\n",
       "        <td style=\"padding-left: 1em; padding-right: 1em; text-align: center; vertical-align: top\">173.090080495</td>\n",
       "        <td style=\"padding-left: 1em; padding-right: 1em; text-align: center; vertical-align: top\">16.04093489</td>\n",
       "    </tr>\n",
       "    <tr>\n",
       "        <td style=\"padding-left: 1em; padding-right: 1em; text-align: center; vertical-align: top\">19346335</td>\n",
       "        <td style=\"padding-left: 1em; padding-right: 1em; text-align: center; vertical-align: top\">92.4130867616</td>\n",
       "        <td style=\"padding-left: 1em; padding-right: 1em; text-align: center; vertical-align: top\">9.13152558492</td>\n",
       "    </tr>\n",
       "    <tr>\n",
       "        <td style=\"padding-left: 1em; padding-right: 1em; text-align: center; vertical-align: top\">520497278</td>\n",
       "        <td style=\"padding-left: 1em; padding-right: 1em; text-align: center; vertical-align: top\">82.3743282922</td>\n",
       "        <td style=\"padding-left: 1em; padding-right: 1em; text-align: center; vertical-align: top\">8.17270663519</td>\n",
       "    </tr>\n",
       "    <tr>\n",
       "        <td style=\"padding-left: 1em; padding-right: 1em; text-align: center; vertical-align: top\">264501955</td>\n",
       "        <td style=\"padding-left: 1em; padding-right: 1em; text-align: center; vertical-align: top\">79.8604564943</td>\n",
       "        <td style=\"padding-left: 1em; padding-right: 1em; text-align: center; vertical-align: top\">7.74029965676</td>\n",
       "    </tr>\n",
       "    <tr>\n",
       "        <td style=\"padding-left: 1em; padding-right: 1em; text-align: center; vertical-align: top\">2485417855</td>\n",
       "        <td style=\"padding-left: 1em; padding-right: 1em; text-align: center; vertical-align: top\">79.4005260603</td>\n",
       "        <td style=\"padding-left: 1em; padding-right: 1em; text-align: center; vertical-align: top\">8.43780978879</td>\n",
       "    </tr>\n",
       "    <tr>\n",
       "        <td style=\"padding-left: 1em; padding-right: 1em; text-align: center; vertical-align: top\">1917591078</td>\n",
       "        <td style=\"padding-left: 1em; padding-right: 1em; text-align: center; vertical-align: top\">64.7864861027</td>\n",
       "        <td style=\"padding-left: 1em; padding-right: 1em; text-align: center; vertical-align: top\">6.77453590621</td>\n",
       "    </tr>\n",
       "</table>\n",
       "[10 rows x 3 columns]<br/>\n",
       "</div>"
      ],
      "text/plain": [
       "Columns:\n",
       "\t__id\tint\n",
       "\tpagerank\tfloat\n",
       "\tdelta\tfloat\n",
       "\n",
       "Rows: 10\n",
       "\n",
       "Data:\n",
       "+------------+---------------+---------------+\n",
       "|    __id    |    pagerank   |     delta     |\n",
       "+------------+---------------+---------------+\n",
       "|  10168082  | 11390.7365588 | 765.131972302 |\n",
       "|  15757578  | 280.382153589 | 26.9200780757 |\n",
       "|  34694337  | 185.861867928 | 17.7656652876 |\n",
       "|  18089606  | 184.568349558 | 17.4025579678 |\n",
       "| 398886217  | 173.090080495 |  16.04093489  |\n",
       "|  19346335  | 92.4130867616 | 9.13152558492 |\n",
       "| 520497278  | 82.3743282922 | 8.17270663519 |\n",
       "| 264501955  | 79.8604564943 | 7.74029965676 |\n",
       "| 2485417855 | 79.4005260603 | 8.43780978879 |\n",
       "| 1917591078 | 64.7864861027 | 6.77453590621 |\n",
       "+------------+---------------+---------------+\n",
       "[10 rows x 3 columns]"
      ]
     },
     "execution_count": 26,
     "metadata": {},
     "output_type": "execute_result"
    }
   ],
   "source": [
    "pr = gl.pagerank.create(g)\n",
    "pr.get('pagerank').topk(column_name='pagerank')"
   ]
  },
  {
   "cell_type": "code",
   "execution_count": 14,
   "metadata": {},
   "outputs": [
    {
     "name": "stdout",
     "output_type": "stream",
     "text": [
      "Canvas is accessible via web browser at the URL: http://localhost:50890/index.html\n",
      "Opening Canvas in default web browser.\n"
     ]
    }
   ],
   "source": [
    "# Visualize graph?\n",
    "gl.canvas.set_target('browser')\n",
    "g.show(vlabel=\"src\")"
   ]
  },
  {
   "cell_type": "code",
   "execution_count": 15,
   "metadata": {},
   "outputs": [],
   "source": [
    "from igraph import *\n",
    "\n",
    "# Create empty graph\n",
    "twitter_graph = Graph(directed=False)\n"
   ]
  },
  {
   "cell_type": "code",
   "execution_count": 67,
   "metadata": {},
   "outputs": [],
   "source": [
    "# Setup the nodes\n",
    "for src in gedges:\n",
    "    if isinstance(src, int):\n",
    "        twitter_graph.add_vertex(name=str(src))"
   ]
  },
  {
   "cell_type": "code",
   "execution_count": 81,
   "metadata": {},
   "outputs": [],
   "source": [
    "# Setup the edges\n",
    "\n",
    "for dst in gedges:\n",
    "    if isinstance(src, int):\n",
    "        twitter_graph.add_edge(str(dst), str(src))\n",
    "        "
   ]
  },
  {
   "cell_type": "code",
   "execution_count": 52,
   "metadata": {},
   "outputs": [],
   "source": [
    "from sklearn.neighbors import NearestNeighbors as NN\n",
    "import pandas as pd\n",
    "df = pd.read_csv('edgesH.2.csv')"
   ]
  },
  {
   "cell_type": "code",
   "execution_count": 53,
   "metadata": {},
   "outputs": [],
   "source": [
    "\n",
    "model = NN(n_neighbors=3,algorithm='ball_tree').fit(df)\n",
    "distances, indices = model.kneighbors(df)"
   ]
  },
  {
   "cell_type": "code",
   "execution_count": 54,
   "metadata": {},
   "outputs": [
    {
     "name": "stdout",
     "output_type": "stream",
     "text": [
      "[[0.00000000e+00 1.29175734e+08 1.41764039e+08]\n",
      " [0.00000000e+00 1.26275410e+07 7.28545990e+07]\n",
      " [0.00000000e+00 2.33178008e+08 3.33725042e+08]\n",
      " ...\n",
      " [0.00000000e+00 2.67480000e+05 2.67480086e+05]\n",
      " [0.00000000e+00 2.14000000e+02 1.22000000e+03]\n",
      " [0.00000000e+00 1.22000000e+03 1.43400000e+03]]\n"
     ]
    }
   ],
   "source": [
    "print (distances)"
   ]
  },
  {
   "cell_type": "code",
   "execution_count": 55,
   "metadata": {},
   "outputs": [
    {
     "ename": "NameError",
     "evalue": "name 'edges' is not defined",
     "output_type": "error",
     "traceback": [
      "\u001b[0;31m---------------------------------------------------------------------------\u001b[0m",
      "\u001b[0;31mNameError\u001b[0m                                 Traceback (most recent call last)",
      "\u001b[0;32m<ipython-input-55-12ac0726a5dc>\u001b[0m in \u001b[0;36m<module>\u001b[0;34m()\u001b[0m\n\u001b[0;32m----> 1\u001b[0;31m \u001b[0mmodel\u001b[0m \u001b[0;34m=\u001b[0m \u001b[0mNN\u001b[0m\u001b[0;34m(\u001b[0m\u001b[0mn_neighbors\u001b[0m\u001b[0;34m=\u001b[0m\u001b[0;36m3\u001b[0m\u001b[0;34m,\u001b[0m\u001b[0malgorithm\u001b[0m\u001b[0;34m=\u001b[0m\u001b[0;34m'ball_tree'\u001b[0m\u001b[0;34m)\u001b[0m\u001b[0;34m.\u001b[0m\u001b[0mfit\u001b[0m\u001b[0;34m(\u001b[0m\u001b[0medges\u001b[0m\u001b[0;34m)\u001b[0m\u001b[0;34m\u001b[0m\u001b[0m\n\u001b[0m\u001b[1;32m      2\u001b[0m \u001b[0mdistances\u001b[0m\u001b[0;34m,\u001b[0m \u001b[0mindices\u001b[0m \u001b[0;34m=\u001b[0m \u001b[0mmodel\u001b[0m\u001b[0;34m.\u001b[0m\u001b[0mkneighbors\u001b[0m\u001b[0;34m(\u001b[0m\u001b[0mX\u001b[0m\u001b[0;34m)\u001b[0m\u001b[0;34m\u001b[0m\u001b[0m\n",
      "\u001b[0;31mNameError\u001b[0m: name 'edges' is not defined"
     ]
    }
   ],
   "source": [
    "#model = NN(n_neighbors=3,algorithm='ball_tree').fit(edges)\n",
    "#distances, indices = model.kneighbors(X)"
   ]
  },
  {
   "cell_type": "code",
   "execution_count": 65,
   "metadata": {},
   "outputs": [
    {
     "data": {
      "text/plain": [
       "array([[9.29834478e+07, 5.56170797e+07],\n",
       "       [4.07036129e+08, 4.63259462e+09],\n",
       "       [1.63629124e+08, 2.13612386e+09],\n",
       "       [1.10825678e+09, 1.65591054e+08],\n",
       "       [2.93406389e+09, 3.11337921e+08]])"
      ]
     },
     "execution_count": 65,
     "metadata": {},
     "output_type": "execute_result"
    }
   ],
   "source": [
    "from sklearn.cluster import KMeans as KM\n",
    "kmodel= KM(n_clusters=5, random_state=0).fit(df)\n",
    "kmodel.cluster_centers_"
   ]
  },
  {
   "cell_type": "code",
   "execution_count": 66,
   "metadata": {},
   "outputs": [
    {
     "name": "stdout",
     "output_type": "stream",
     "text": [
      "src    105931787\n",
      "dst     10168082\n",
      "Name: 14560, dtype: int64\n",
      "0\n"
     ]
    }
   ],
   "source": [
    "ind = 14560\n",
    "print(df.iloc[ind]) \n",
    "print(kmodel.labels_[ind])"
   ]
  },
  {
   "cell_type": "code",
   "execution_count": 64,
   "metadata": {},
   "outputs": [],
   "source": [
    "# file-input.py\n",
    "import pickle\n",
    "bios = open('bios.pickle','r')\n",
    "fileO = pickle.load(bios)\n",
    "#message = bios.read()\n",
    "#print(message)\n",
    "#bios.close()\n",
    "\n"
   ]
  },
  {
   "cell_type": "code",
   "execution_count": 44,
   "metadata": {},
   "outputs": [
    {
     "data": {
      "text/plain": [
       "{807095: u'Where the conversation begins. Follow for breaking news, special reports, RTs of our journalists and more. Visit https://t.co/ghL9OoYKMM to share news tips.\\nFor decades, kids played on toxic ball fields in Red Hook. Some were closed in 2012, more in 2015. Locals wonder wh\\u2026 https://t.co/gDjncVU6vO',\n",
       " 1367531: u'America\\u2019s Strongest Primetime Lineup Anywhere! Follow America\\'s #1 cable news network, delivering you breaking news, insightful analysis, and must-see videos.\\n.@SecretaryAcosta: \"The Trump economy has created, since his election, 3.2 million new jobs.\" https://t.co/Q8R3zAgUiH',\n",
       " 7702542: u'Nationally syndicated radio host. Bestselling author. #2A advocate. Born for the storm. All opinions mine. \\U0001f1fa\\U0001f1f8\\nWalking the floor at #NRAAM! Stopping by @keltecweapons @patriotmobile @blckriflecoffee ! I\\u2019ll be at the NRA booth\\u2026 https://t.co/RJQw5gyOkN',\n",
       " 10168082: u'A think tank devoted to the principles of free enterprise, limited government, individual freedom, traditional American values, and a strong national defense.\\nAll societies have an elite. The question is whether it will serve the republic or itself. John Adams \\u2013 our second\\u2026 https://t.co/iwTJ6lQaC6',\n",
       " 15450996: u'A public policy research organization dedicated to individual liberty, limited government, free markets, and peace.\\nThe United States, for decades amongst the most economically free countries in the world, now ranks 11th in the ann\\u2026 https://t.co/fpRDCFiITG',\n",
       " 15745368: u'US Senator for Florida. Follow @SenRubioPress for more updates.\\n\\u201cI have told you this so that my joy may be in you &amp; your joy may be complete. This is my commandment:love one anot\\u2026 https://t.co/fpMUVdyN35',\n",
       " 15757578: u'President, Security Studies Group.    Former Army Special Forces Weapons, so expect precision fire.\\n#IranLied \\n#ObamaLied\\nAnd pretty much everyone else involved in the #IranDeal did too\\n\\nGood thread explaining this https://t.co/TdLpHuXHCw',\n",
       " 15976697: u'Little brown woman. Big mouth. Wife. Mom. Entrepreneur. Geek. #ManitouIncline addict. Host of #michellemalkininvestigates on CRTV. #freedanielholtzclaw\\n@PC1170 egad that sounds hellish. Like 7th circle of hell.',\n",
       " 17847906: u\"Born USSR | raised Brooklyn. Columnist @nypost, elsewhere. *Girl, it's your 2nd amendment.* I don't name-call on Twitter but I think it real loudly. Open DMs.\\nRT @jkirchick: From suing the KKK out of existence to this: https://t.co/uLuQ5bR6cc\",\n",
       " 17995040: u'EIC https://t.co/Jd8PhAEM3i, syndicated radio host and columnist, host of \"The Ben Shapiro Show,\" National Review, NYT bestseller\\nRT @DeniseHalliganA: @AlphaAchillesX @benshapiro @jordanbpeterson It\\'s so good.',\n",
       " 18089606: u'Fragging the Niedermeyer of conformity like a boss. || Senior Columnist @Townhallcom | Author | Lawyer | Rebel | Army 11A COL(R) | #Bitey\\nThe left wants Jews dead. https://t.co/lOT0jnVAdj',\n",
       " 18141232: u'Features editor @taskandpurpose \\u2022 Instructor @NYUPrisonEd \\u2022 Writer @newyorker, @nymag \\u2022 Do not resuscitate\\nLet it go already https://t.co/Si7sTud9xL',\n",
       " 18401723: u'Seth Morgan is a former Ohio State Representative, regular speaker, author, and business owner.\\nRT @MaryTaylorOH: I appreciate the endorsement of the Conservative Party (Ohio). Conservatives all across the state and country are rallyin\\u2026',\n",
       " 18646108: u'Bret Baier:Chief Political Anchor @FoxNews. Anchor & Executive Editor of @SpecialReport. NYT bestselling author. #ThreeDaysinJanuary book available now.\\nRT @PGATOUR: Birdie. Birdie. Birdie.\\n\\nHere comes Phil Mickelson. https://t.co/wYKqgaMfkd',\n",
       " 18916432: u'Office of the 54th Speaker of the House, Paul Ryan.\\nRT @RepFredUpton: 48 States, including Michigan, seeing lower utility bills following tax reform https://t.co/KVlbob0Dx9',\n",
       " 19346335: u'Activist, writer, podcast/web-series host, cultured conservative. @TPUSA staff. Bylines in @dcexaminer, @DailyCaller, @TurningPt_News, etc. Opinions are mine.\\n@DawnDCS92 Agreed.',\n",
       " 19417492: u'Standing athwart history, yelling Stop. A magazine founded by the late William F. Buckley Jr. Snapchat & Instagram: NationalReview\\nLiberal Democracy and Us https://t.co/NLKcBHRCLc https://t.co/L40ijYBYcb',\n",
       " 19486234: u'Retired DuPage County sheriffs deputy.  Offering current news, conservative political thought and opinion in an oft callous and uncaring manner.\\n@North2North Absofreakinlutely',\n",
       " 20018428: u'an eternal snack\\nRT @LowKei_: Still not over this. https://t.co/deQt3ZfZVW',\n",
       " 20254699: u'Visiting Senior Fellow @RSI working on conservative urbanism and place. Spurs fan, NCSU+UChicago alum, \\u271e. jcoppage [at] rstreet (dot) org Tweets are my own\\n@theshrillest remember when Shane Battier did it and it was part of the glowing Morey-ball profile',\n",
       " 21759282: u'Vice President, Congressional Relations @icba\\nRT @ICBA: ICBA and other groups sent a letter to the @USTreasury to help it design a pass-through tax deduction that is simple and easy to\\u2026',\n",
       " 22203756: u'Vice President of the United States\\nWisconsin is Working! The economy is soaring and WI needs four more years of @ScottWalker! President\\u2026 https://t.co/bMOVQihrO3',\n",
       " 22703645: u'Host of \"Tucker Carlson Tonight\", weeknights at 8 PM ET on @FoxNews. Re-tweets are emphatic endorsements.\\nThe biggest threat to America isn\\'t Putin, but China. Consider: China spies on us more than any other country. It\\'s\\u2026 https://t.co/FKSqEb7lOk',\n",
       " 23022687: u\"Father of two, @heidiscruz's husband, fighter for liberty. Representing the great state of Texas in the U.S. Senate.\\nAnd now the Senate\\u2019s leading gun grabber is ALL IN for Beto O\\u2019Rourke. Joins Rosie, Franken, Schumer &amp; Elizabeth War\\u2026 https://t.co/qFri4zslBZ\",\n",
       " 24578794: u'\\u201cThe best is yet to come. . . \\u201c \\u2014Frank Sinatra\\nOh boy a taste of Washington DC here on Long Island! #TheSwamp Sunday afternoon Swamp movie https://t.co/BdW1lZNDWe',\n",
       " 25073877: u'45th President of the United States of America\\U0001f1fa\\U0001f1f8\\nThank you Cleveland, Ohio! https://t.co/ROEFRLY7jP',\n",
       " 26153445: u\"Actor Producer Writer Director, ...otters Co-Founder Rooster Teeth Productions\\n@Feelzabub Just don't borrow the money to invest.\",\n",
       " 27223236: u\"proud Dad of an Eagle Scout & a ballerina...Husband...Powahay District Commissioner...Coach....Car Guy...\\nRT @NHL: Back and forth they went, but it's the @Capitals who take a 3-2 series lead.\\n\\nThe game... nothing short of thrilling! #StanleyCup\\u2026\",\n",
       " 27311044: u\"Fox News contributor, Host of The Daily Briefing w Dana Perino, Co-host The Five, Fmr Press Sec to George W. Bush. Speaking opps: https://t.co/FV4pmiX4a0\\nRT @NumbersMuncher: My (five year old) kid wants his dog to be a social media star, so he's declared if this picture gets 10,000 RTs/Likes\\u2026\",\n",
       " 29270179: u'Doctor en Econom\\xeda/Autor. Casado, 3 hijos. Economista Jefe @TressisSV. Profesor @IEbusiness @IEB_Spain. Cons Ases @frdelpino. Comisionado Com Madrid Londres\\nLos defensores de Marx deber\\xedan estar avergonzados \\n\\nMarx apologists should be red in the face.\\n https://t.co/IcbVOK867o',\n",
       " 29458079: u'Judge Pirro is a highly respected District Attorney, Judge, author & renowned champion of the underdog. She hosts the Fox News show, Justice with Judge Jeanine.\\nRT @FoxNews: \"There is no evidence of collusion with the Russians, gone.\"\\n\\nWATCH: Full interview with President @realDonaldTrump\\'s attorney\\u2026',\n",
       " 30354991: u'Senator for California. Former CA Attorney General. Dedicated to fighting for justice & giving voice to the voiceless. Wife, s-mom, sister, aunt. Aspiring chef.\\nNet Neutrality is paramount to the success of our economy. No one website should be prioritized over its competitor\\u2026 https://t.co/v5Y62UH2K0',\n",
       " 34694337: u'Social media strategist/reporter @dailycaller social media expert/writer @Democratslogic @unbiasedamerica editor in chief\\nI may be in the minority here, but I\\u2019m not all that impressed with \\u201cMad Dog\\u201d Mattis, particularly on Iran. Prove me wrong.',\n",
       " 39344374: u'EVP of Development & Acquisitions The @Trump Organization, Father, Husband, Outdoorsman, In a past life Boardroom Advisor on The Apprentice\\n@TyTalbot7115 Care to put your money where your mouth is?',\n",
       " 41634520: u'TV Host Fox News Channel 9 PM EST. Nationally Syndicated Radio Host 3-6 PM EST. https://t.co/z23FRgA02S Retweets, Follows NOT endorsements! Due to hackings, no DM\\u2019s!\\nBreaking from @SaraCarterDC https://t.co/aBOvNcIv6J',\n",
       " 50044510: u'Nationally syndicated talk radio host, member of  USA TODAY\\'s Board of Contributors, author of THE AMERICAN MIRACLE.\\nThe essence of the fight between conservative media &amp; \"mainstream media\" is over what kind of movie Americans are w\\u2026 https://t.co/zj4uBm6Rat',\n",
       " 50769180: u\"Mom, author, TV & Radio Host, The Ingraham Angle 10p ET Fox News, The Laura Ingraham Show, 9 to Noon ET https://t.co/Wu93dyjL6t. Retweets do not = Endorsements\\nWet wipes will be 'eliminated' in Britain under ministers' latest plan https://t.co/AHTBS03SAa via @MailOnline\",\n",
       " 70024758: u'Combat Vet. 82nd Guy, roger! Hunting and that pew pew life. Investigative Journo. welder. jokester\\n@cjane87 I think it\\u2019s stupid to exploit children on any side.',\n",
       " 70424767: u'The @FreeBeacon\\'s executive editor; purveyor of \"tendentious tripe.\" Cohost, Weekly Substandard podcast. Contributor to WaPo. Work in WSJ, NR, Commentary, etc.\\nYou: \\u201cUsing overwrought Eric Garland tweets to stand in for humorous overreaction is pass\\xe9.\\u201d\\n\\nMe: https://t.co/fq8cAn5iuD',\n",
       " 71627462: u\"Dog guy, columnist for LAT, Sr. Editor @NRO, Fellow AEI, NRI. Host: The Remnant Podcast: https://t.co/i1NwKsUmRr\\nAuthor: Suicide of the West (April '18)\\nRT @AEI: A new blockbuster study actually offers further evidence that family structure plays an important role in the racial gap in econom\\u2026\",\n",
       " 74246742: u'\\nRT @RobertBluey: Exclusive interview with @BetsyDeVosED: \"The last thing we want to see is another mandate from the federal level\" https://\\u2026',\n",
       " 77919208: u'CTO, Noodle Partners. @ARF Social Council \\u2708\\ufe0f Previously: VP, Social @comscore @SponsorHub @NYUStern. #SocialData #AI\\nHighlights from the new edition of the FreeReid Post [my newsletter] are here: https://t.co/zTnAxQ2Ldo',\n",
       " 91882544: u'\\U0001f3a5 filmmaker. \\U0001f4da author. \\U0001f3a4 speaker. My bestselling book \"The Big Lie\" exposes the Left\\'s biggest lie yet: calling conservatives Nazis to hide their fascism.\\nRT @TheSilentLOUD: \\U0001f4a5 BOOM \\U0001f4a5 \\n\\nGUILTY: Rosie O\\'Donnell exposed for exact same crime that saw Dinesh D\\u2019Souza sentenced  to\\n\\n\\u25aa\\ufe0f5 yrs Probation\\u2026',\n",
       " 112047805: u'Sr. Political Analyst, Fox News Channel. Arguments welcome. Name callers & verbal abusers blocked.\\nThis brief interview should help you understand why @BretBaier is so popular. BTW, he gives me strokes, but I don\\u2019t\\u2026 https://t.co/1d99orktXe',\n",
       " 121259381: u'Director of Commercial Freedom and Senior Fellow at @RSI. Editor of @DrinksReform. Husband to @maria_ribas. Micah 6:8.\\nYou know you are blessed beyond measure with a wonderful job when your boss invites you to Shad fish during the pea\\u2026 https://t.co/AkYovuY381',\n",
       " 174430338: u'Former Hoosier\\u25a0Proud Grandma\\u25a0\\n#TrumpTrain\\n #ArmyVet\\n#Conservative #BackTheBlue #MAGA\\n #2A #RedWaveRising  #American1st \\nHaters will be \\U0001f6ab \\n \\U0001f1fa\\U0001f1f8 No DM/Lists!\\nRT @mememayo96: Steve Hilton: Mueller Probe Is A Political Counter-Revolution To Overthrow Trump -- It Must Be Defeated #MuellerWitchHunt #\\u2026',\n",
       " 206745755: u'Blessed beyond measure, Husband, Dad, Georgian, Manion Clerk, Forever @samfordu, Bibliophile, Alt-Music Connoisseur, Public Servant.\\nVictoria. https://t.co/3pvN9aOq63',\n",
       " 216881337: u'U.S. Senator for Kentucky | I fight for the Constitution, individual liberty and the freedoms that make this country great.\\nRT @JoshJamesWUKY: .@RandPaul visits DV8 Kitchen in Lexington to meet with the owner and employees, and \\u201clearn more about their efforts to\\u2026',\n",
       " 233245164: u'scholar of Israeli politics and political thought.\\n@JamesRHarrigan Banning all weapons is a contradiction in terms. In order to ban something you have to use weapons\\u2026 https://t.co/0to7m4O1yx',\n",
       " 242047504: u'Follower of Christ. Covering the liberty movement for @DailyCaller. Becoming fluent in legalese @LibertyLaw.\\nRT @kanyewest: naps are awesome',\n",
       " 248469208: u'Media/Breaking News Reporter  @dailycaller, Columnist @catholicvote, Hoya fan & country music lover, Tips: amber@dailycaller.com\\n@ceeLOWEgreen Yes yes very good',\n",
       " 264501955: u\"Political strategist. Entrepreneur. Visionary. CEO: https://t.co/OCCa0bUzj8 - Social Media For Politicians. Co-Founder of @NewRightUS. \\U0001f4e7:Michael@NewRightUS.com\\nRT @MikeTokes: Pharmaceutical firms suppress CURES, because if you're cured they would lose profits. They suppress prevention, because your\\u2026\",\n",
       " 303447150: u'Founder and CEO of Crotega, inventor of the Interior Threat Suppression System. Author of The Fatal Link, a study of school shooters. Educational leader.\\nRT @SusanDRichMD: At age 10, my daughter said-\\u201cMommy, why do people on #TV want to make #babies with #FASD?\\u201d while watching an ad with youn\\u2026',\n",
       " 315977587: u'David Nelson, CFA - Chief Strategist, Belpointe Asset Mgmt. Frequent Guest - CNBC, Fox News, Fox Business, i24 News, Political & Financial News Contributor\\nRising $DXY not just hurting U.S. multi-nationals https://t.co/kaMUFTAtot',\n",
       " 331393447: u'\"Following Christ ain\\'t a one time event, it\\'s a lifestyle.\" | Politics| Film | Music |\\nY\\'ALL just when I think it can\\'t keep getting better. https://t.co/WBMglnPvVm',\n",
       " 344623522: u'Program Officer @IRIglobal in #Tunisia, Yale WCS Alumnae, chocolate & cheese lover, World Citizen. Opinions are my own\\u2014 Tweet \\u2260endorsement\\nSondage Sigma : les ind\\xe9pendants 1ers, Ennahdha 2\\xe8mes et Nidaa 3\\xe8mes https://t.co/LpRrssVb9e',\n",
       " 362008692: u'@Heritage Communications @DailySignal Contributor. UT Austin. @Astros for life, Texas forever. Views are my own.\\nRT @JarrettStepman: .@PressSec withering response to the mainstream media https://t.co/P2FTWHodwf via @DailySignal @GinnyMontalbano',\n",
       " 373193592: u'Caffeinated & opinionated. Research assistant @Heritage, @ChristendomVA alumna. Views my own.\\nRT @GScottSays: Poor choice of friends, @JeffBezos &amp; @amazon.  \\n\\nRespect loyal customers like me who reject the hardcore radicalism &amp; disho\\u2026',\n",
       " 398886217: u\"Deputy Director, Digital Training @Leadershipinst. Contributor @CampusReform. Conservative. Denver Broncos fan. Chess fanatic. Views are my own.\\nRT @IvankaTrump: Our economic agenda is indisputably working and today's jobs numbers prove it! Unemployment fell to 3.9% for the first tim\\u2026\",\n",
       " 408806531: u'White House Correspondent for @DailyCaller. @GeorgetownCSS & @GWtweets alumni. c21. Texas Forever. RT\\u2260endorsements. enjeti@dailycaller.com\\nMom: what did you do today\\nMe: I went to the gun range \\nMom: Ew, why\\nMe: Because I can',\n",
       " 466153891: u'@Heritage Media Relations,\\nColorado to DC,\\n@UCCS alumn,\\nviews are my own,\\nRT \\u2260 endorsement\\nOn North Korea: there\\'s been progress... but... \"There\\'s not going to be a U-Haul caravan going out of Pyongyang wi\\u2026 https://t.co/PcMa4i2JDC',\n",
       " 470678752: u'Legislative Director for @JusticeKentucky RTs of @GovMattBevin and @TilleyKY =endorsement\\U0001f44d\\U0001f3fc#cjreform Alum: @KYGOP @NCHouseGOP @tnhousegop\\nRT @thejakehorowitz: Juvenile Justice Reforms Yield Major Advances in Kentucky https://t.co/efT7CsxbD8 via @pewtrusts @JusticeKentucky @Til\\u2026',\n",
       " 471672239: u'Counselor to the President\\nRT @WhiteHouse: President Trump recently received a letter from one OH resident, Mrs. Sharlene Thornton, who will be joining him in Clevela\\u2026',\n",
       " 475110461: u'Jonathan Butcher serves as senior policy analyst at the Heritage Foundation and senior fellow at the Goldwater Institute. Tweets are my own.\\nHangin out at the Blind Willie McTell Blues Festival #blues #guitars https://t.co/m55A829MfJ',\n",
       " 520497278: u'Buckley Fellow at National Review. Co-host of \\u201cOrdered Liberty\\u201d with @DavidAFrench. Notre Dame alum. Beauty will save the world. \\u201cLiterally against everything.\\u201d\\nThink about this for a second. If I wanted to write a response to this trash, it would have to be titled \\u201cNo, abort\\u2026 https://t.co/Vh6cRq24ZD',\n",
       " 562989744: u\"Official Twitter page of Conversations with Conservatives of the 114th Congress. Chaired by @CongHuelskamp, @Raul_Labrador and @Jim_Jordan.\\nToday's meeting of Conversations with Conservatives is still happening at NOON in 2253 Rayburn. Reporters are welco\\u2026 https://t.co/nfjUp3lKRU\",\n",
       " 581999965: u\"Father. Filmmaker. Freedom. Family. Former Buffalo Bill. Would never tweet anything I wouldn't say to your face. I block name-callers (unless very clever).\\nThis is an interesting watch- https://t.co/DirXkvUabn\",\n",
       " 741082314: u\"Policy analyst @CatoInstitute, @Harvard @Kennedy_School alum. Mostly urban economics, women's issues, housing, social welfare.\\nThere\\u2019s a lot going on in the HUD proposal, but most reporting isn\\u2019t capturing it. Here\\u2019s a fair picture of what th\\u2026 https://t.co/BEoWs93o57\",\n",
       " 755360005: u'Election attorney and litigator. General Counsel to the Illinois GOP. Past Chair of Chicago Bar Association Election Law Committee. Tweets are my own.\\nFlorida man arrested on #voterfraud charges.  DNA evidence used in connection with forged vote by mail ballots\\u2026 https://t.co/XYv1APLgbG',\n",
       " 902200087: u'\"You\\'re miserable, edgy and tired. You\\'re in the perfect mood for journalism.\"\\n@motmemes Saw it the day it came out, def go see it',\n",
       " 1074480192: u'Representing the State of Texas in the United States Senate.\\nRT @SenTedCruz: \"Heroes like Stephen Willeford: that\\'s Texas\" @NRA @AnnualMeetings #NRAAM https://t.co/GMFuviQPoR',\n",
       " 1151326477: u'Husband. Father. Entrepreneur. National Security/Technology Dude.\\nRT @e_kaspersky: @klonkitchen  https://t.co/2HKKMj7ab8',\n",
       " 1169477054: u'Editor of http://t.co/ywm0fYCtzJ (@DownsizeTheFeds) at the Cato Institute.\\nAfter the GOP tax cuts, those at the top face much higher tax rates than others. https://t.co/GKca80Y4b9 https://t.co/21kQEdtKHS',\n",
       " 1542228578: u'Author of @hillbillyelegy (available here: https://t.co/nNSUM7kDZf), investor @RiseofRest.  Speaking requests @washspeakers.\\n@shadihamid Woah.',\n",
       " 1917591078: u'\\u267fVet. Classical liberal (not racist, leftist Proggie) What is my fair share of your labor? [Th.Sowell] #BlockedByChiefCovfefe 2A=1A\\n(List/dox=block) #TANSTAAFL\\n@Roni4488 @IsraelTruthWeek @CarlyTargaryen @JeroenSwets @MMFlint Wait, so Lenin, an actual, true but misguided geni\\u2026 https://t.co/f0p95OtDFe',\n",
       " 1949367794: u'Professor of ethics with degrees in economics, philosophy and theology. Proud father of Down syndrome boy. Rome Bureau Chief for Breitbart News.\\nShock Study: Climate Skeptics More \\u2018Eco-Friendly\\u2019 than Climate Alarmists https://t.co/SIomJS5KBc',\n",
       " 2485417855: u'Senior Correspondent @FDRLST, occasional contributor @NRO, @TexasMonthly, @ClaremontInst, et al. Views are my own.\\nGoogle is a microcosm of America in 2018. Its workplace has become completely politicized, which means the company\\u2026 https://t.co/iC1MdJ9yc7',\n",
       " 2492181896: u'Supreme Court reporter, Daily Caller News Foundation. Tips, jiggery pokery: kevin@dailycallernewsfoundation.org\\nRT @RosenJeffrey: Thank you @RSLands &amp; @KevinDaleyDC for reading Taft on your honeymoon! Your mutual devotion to the Constitution is truly\\u2026',\n",
       " 2755843506: u'Executive Director of the Center For A Free Cuba, frank.calzon@cubacenter.org\\nFrank Calzon en MegaTV con Oscar Haza https://t.co/9D7bo7rakP',\n",
       " 3362913279: u'#Ethereum #Bitcoin energy markets, nonprofit education. Cofounder @codetoinspire | Member @consensys | Advisor @uport_me @airswap @gridplus_energy @virtue_poker\\nRT @el33th4xor: @EtheriumToken Any community should be proud to have that smart penguin. And if I lost cred by talking to a smart penguin,\\u2026',\n",
       " 3891878001: u'Senior Tax Correspondent for @Law360. PA/NJ attorney who loves running, lifting, eating, and traveling. Views are my own. \\u6211\\u8bf4\\u6c49\\u8bed. Hablo espa\\xf1ol. #Wesleyan\\nRT @Richard_Asquith: US corporate tax rate cut to 21% balloons deficit over $1 trillion https://t.co/XizxjHSFpU',\n",
       " 4478749334: u'Economics @ForDummies author. @CAGOP endorsed candidate for #CA31. National martial arts champion. Bringing jobs, growth & opportunity to the Inland Empire\\nThe past week was spent stopping in at local businesses &amp; talking w/ the owners about the issues they are facing +\\u2026 https://t.co/Yp7B5JPJ0H',\n",
       " 4686567074: u'2021 Republican Candidate for Mayor of Henderson, NV. Instagram-@AngeloRayGomez DONATE-https://t.co/2PDtvUgIwu\\nRT @DennisDMZ: I don\\u2019t want to practice Socialism because I don\\u2019t want to culturally appropriate Venezuela.',\n",
       " 4735218024: u'policy @Heritage_Action | former senate staffer @marcorubio | views are my own\\nRT @CityJournal: In our age of enraged shrinking violets, Clarence Thomas is one of a handful of brave iconoclasts who love liberty, especi\\u2026',\n",
       " 4900099775: u\"I love Christ, Texas, Heritage Action, Baylor University, NASCAR, poetry, East Asia, and maritime security. Opinions are my own. RT\\u2260endorsement.\\nRT @danholler: so the School Superintendents Association has members' voting cards? I am sure military families with children stuck in bad\\u2026\"}"
      ]
     },
     "execution_count": 44,
     "metadata": {},
     "output_type": "execute_result"
    }
   ],
   "source": [
    "fileO"
   ]
  },
  {
   "cell_type": "code",
   "execution_count": 24,
   "metadata": {},
   "outputs": [
    {
     "data": {
      "text/plain": [
       "1"
      ]
     },
     "execution_count": 24,
     "metadata": {},
     "output_type": "execute_result"
    }
   ],
   "source": [
    "kmodel.labels_[list(df['src']).index(807095)]"
   ]
  },
  {
   "cell_type": "code",
   "execution_count": 50,
   "metadata": {},
   "outputs": [],
   "source": [
    "dataDF = pd.read_csv('./H100.csv', converters={'node':int})"
   ]
  },
  {
   "cell_type": "code",
   "execution_count": 108,
   "metadata": {},
   "outputs": [
    {
     "name": "stdout",
     "output_type": "stream",
     "text": [
      "15757578 1 President, Security Studies Group.    Former Army Special Forces Weapons, so expect precision fire.\n",
      "#IranLied \n",
      "#ObamaLied\n",
      "And pretty much everyone else involved in the #IranDeal did too\n",
      "\n",
      "Good thread explaining this https://t.co/TdLpHuXHCw\n",
      "18089606 1 Fragging the Niedermeyer of conformity like a boss. || Senior Columnist @Townhallcom | Author | Lawyer | Rebel | Army 11A COL(R) | #Bitey\n",
      "The left wants Jews dead. https://t.co/lOT0jnVAdj\n",
      "34694337 0 Social media strategist/reporter @dailycaller social media expert/writer @Democratslogic @unbiasedamerica editor in chief\n",
      "I may be in the minority here, but I’m not all that impressed with “Mad Dog” Mattis, particularly on Iran. Prove me wrong.\n",
      "398886217 0 Deputy Director, Digital Training @Leadershipinst. Contributor @CampusReform. Conservative. Denver Broncos fan. Chess fanatic. Views are my own.\n",
      "RT @IvankaTrump: Our economic agenda is indisputably working and today's jobs numbers prove it! Unemployment fell to 3.9% for the first tim…\n",
      "19346335 1 Activist, writer, podcast/web-series host, cultured conservative. @TPUSA staff. Bylines in @dcexaminer, @DailyCaller, @TurningPt_News, etc. Opinions are mine.\n",
      "@DawnDCS92 Agreed.\n",
      "520497278 2 Buckley Fellow at National Review. Co-host of “Ordered Liberty” with @DavidAFrench. Notre Dame alum. Beauty will save the world. “Literally against everything.”\n",
      "Think about this for a second. If I wanted to write a response to this trash, it would have to be titled “No, abort… https://t.co/Vh6cRq24ZD\n",
      "2485417855 1 Senior Correspondent @FDRLST, occasional contributor @NRO, @TexasMonthly, @ClaremontInst, et al. Views are my own.\n",
      "Google is a microcosm of America in 2018. Its workplace has become completely politicized, which means the company… https://t.co/iC1MdJ9yc7\n",
      "264501955 1 Political strategist. Entrepreneur. Visionary. CEO: https://t.co/OCCa0bUzj8 - Social Media For Politicians. Co-Founder of @NewRightUS. 📧:Michael@NewRightUS.com\n",
      "RT @MikeTokes: Pharmaceutical firms suppress CURES, because if you're cured they would lose profits. They suppress prevention, because your…\n",
      "1917591078 3 ♿Vet. Classical liberal (not racist, leftist Proggie) What is my fair share of your labor? [Th.Sowell] #BlockedByChiefCovfefe 2A=1A\n",
      "(List/dox=block) #TANSTAAFL\n",
      "@Roni4488 @IsraelTruthWeek @CarlyTargaryen @JeroenSwets @MMFlint Wait, so Lenin, an actual, true but misguided geni… https://t.co/f0p95OtDFe\n",
      "4735218024 1 policy @Heritage_Action | former senate staffer @marcorubio | views are my own\n",
      "RT @CityJournal: In our age of enraged shrinking violets, Clarence Thomas is one of a handful of brave iconoclasts who love liberty, especi…\n",
      "242047504 0 Follower of Christ. Covering the liberty movement for @DailyCaller. Becoming fluent in legalese @LibertyLaw.\n",
      "RT @kanyewest: naps are awesome\n",
      "248469208 2 Media/Breaking News Reporter  @dailycaller, Columnist @catholicvote, Hoya fan & country music lover, Tips: amber@dailycaller.com\n",
      "@ceeLOWEgreen Yes yes very good\n",
      "331393447 0 \"Following Christ ain't a one time event, it's a lifestyle.\" | Politics| Film | Music |\n",
      "Y'ALL just when I think it can't keep getting better. https://t.co/WBMglnPvVm\n",
      "17847906 0 Born USSR | raised Brooklyn. Columnist @nypost, elsewhere. *Girl, it's your 2nd amendment.* I don't name-call on Twitter but I think it real loudly. Open DMs.\n",
      "RT @jkirchick: From suing the KKK out of existence to this: https://t.co/uLuQ5bR6cc\n",
      "2492181896 1 Supreme Court reporter, Daily Caller News Foundation. Tips, jiggery pokery: kevin@dailycallernewsfoundation.org\n",
      "RT @RosenJeffrey: Thank you @RSLands &amp; @KevinDaleyDC for reading Taft on your honeymoon! Your mutual devotion to the Constitution is truly…\n",
      "4686567074 1 2021 Republican Candidate for Mayor of Henderson, NV. Instagram-@AngeloRayGomez DONATE-https://t.co/2PDtvUgIwu\n",
      "RT @DennisDMZ: I don’t want to practice Socialism because I don’t want to culturally appropriate Venezuela.\n",
      "408806531 2 White House Correspondent for @DailyCaller. @GeorgetownCSS & @GWtweets alumni. c21. Texas Forever. RT≠endorsements. enjeti@dailycaller.com\n",
      "Mom: what did you do today\n",
      "Me: I went to the gun range \n",
      "Mom: Ew, why\n",
      "Me: Because I can\n",
      "70024758 1 Combat Vet. 82nd Guy, roger! Hunting and that pew pew life. Investigative Journo. welder. jokester\n",
      "@cjane87 I think it’s stupid to exploit children on any side.\n",
      "206745755 0 Blessed beyond measure, Husband, Dad, Georgian, Manion Clerk, Forever @samfordu, Bibliophile, Alt-Music Connoisseur, Public Servant.\n",
      "Victoria. https://t.co/3pvN9aOq63\n",
      "70424767 2 The @FreeBeacon's executive editor; purveyor of \"tendentious tripe.\" Cohost, Weekly Substandard podcast. Contributor to WaPo. Work in WSJ, NR, Commentary, etc.\n",
      "You: “Using overwrought Eric Garland tweets to stand in for humorous overreaction is passé.”\n",
      "\n",
      "Me: https://t.co/fq8cAn5iuD\n",
      "562989744 0 Official Twitter page of Conversations with Conservatives of the 114th Congress. Chaired by @CongHuelskamp, @Raul_Labrador and @Jim_Jordan.\n",
      "Today's meeting of Conversations with Conservatives is still happening at NOON in 2253 Rayburn. Reporters are welco… https://t.co/nfjUp3lKRU\n",
      "466153891 0 @Heritage Media Relations,\n",
      "Colorado to DC,\n",
      "@UCCS alumn,\n",
      "views are my own,\n",
      "RT ≠ endorsement\n",
      "On North Korea: there's been progress... but... \"There's not going to be a U-Haul caravan going out of Pyongyang wi… https://t.co/PcMa4i2JDC\n",
      "77919208 0 CTO, Noodle Partners. @ARF Social Council ✈️ Previously: VP, Social @comscore @SponsorHub @NYUStern. #SocialData #AI\n",
      "Highlights from the new edition of the FreeReid Post [my newsletter] are here: https://t.co/zTnAxQ2Ldo\n",
      "50044510 2 Nationally syndicated talk radio host, member of  USA TODAY's Board of Contributors, author of THE AMERICAN MIRACLE.\n",
      "The essence of the fight between conservative media &amp; \"mainstream media\" is over what kind of movie Americans are w… https://t.co/zj4uBm6Rat\n",
      "21759282 0 Vice President, Congressional Relations @icba\n",
      "RT @ICBA: ICBA and other groups sent a letter to the @USTreasury to help it design a pass-through tax deduction that is simple and easy to…\n",
      "4900099775 1 I love Christ, Texas, Heritage Action, Baylor University, NASCAR, poetry, East Asia, and maritime security. Opinions are my own. RT≠endorsement.\n",
      "RT @danholler: so the School Superintendents Association has members' voting cards? I am sure military families with children stuck in bad…\n",
      "373193592 0 Caffeinated & opinionated. Research assistant @Heritage, @ChristendomVA alumna. Views my own.\n",
      "RT @GScottSays: Poor choice of friends, @JeffBezos &amp; @amazon.  \n",
      "\n",
      "Respect loyal customers like me who reject the hardcore radicalism &amp; disho…\n",
      "1542228578 1 Author of @hillbillyelegy (available here: https://t.co/nNSUM7kDZf), investor @RiseofRest.  Speaking requests @washspeakers.\n",
      "@shadihamid Woah.\n",
      "362008692 1 @Heritage Communications @DailySignal Contributor. UT Austin. @Astros for life, Texas forever. Views are my own.\n",
      "RT @JarrettStepman: .@PressSec withering response to the mainstream media https://t.co/P2FTWHodwf via @DailySignal @GinnyMontalbano\n",
      "470678752 0 Legislative Director for @JusticeKentucky RTs of @GovMattBevin and @TilleyKY =endorsement👍🏼#cjreform Alum: @KYGOP @NCHouseGOP @tnhousegop\n",
      "RT @thejakehorowitz: Juvenile Justice Reforms Yield Major Advances in Kentucky https://t.co/efT7CsxbD8 via @pewtrusts @JusticeKentucky @Til…\n",
      "902200087 1 \"You're miserable, edgy and tired. You're in the perfect mood for journalism.\"\n",
      "@motmemes Saw it the day it came out, def go see it\n",
      "29458079 1 Judge Pirro is a highly respected District Attorney, Judge, author & renowned champion of the underdog. She hosts the Fox News show, Justice with Judge Jeanine.\n",
      "RT @FoxNews: \"There is no evidence of collusion with the Russians, gone.\"\n",
      "\n",
      "WATCH: Full interview with President @realDonaldTrump's attorney…\n",
      "121259381 2 Director of Commercial Freedom and Senior Fellow at @RSI. Editor of @DrinksReform. Husband to @maria_ribas. Micah 6:8.\n",
      "You know you are blessed beyond measure with a wonderful job when your boss invites you to Shad fish during the pea… https://t.co/AkYovuY381\n",
      "4478749334 1 Economics @ForDummies author. @CAGOP endorsed candidate for #CA31. National martial arts champion. Bringing jobs, growth & opportunity to the Inland Empire\n",
      "The past week was spent stopping in at local businesses &amp; talking w/ the owners about the issues they are facing +… https://t.co/Yp7B5JPJ0H\n",
      "741082314 3 Policy analyst @CatoInstitute, @Harvard @Kennedy_School alum. Mostly urban economics, women's issues, housing, social welfare.\n",
      "There’s a lot going on in the HUD proposal, but most reporting isn’t capturing it. Here’s a fair picture of what th… https://t.co/BEoWs93o57\n",
      "581999965 2 Father. Filmmaker. Freedom. Family. Former Buffalo Bill. Would never tweet anything I wouldn't say to your face. I block name-callers (unless very clever).\n",
      "This is an interesting watch- https://t.co/DirXkvUabn\n",
      "755360005 3 Election attorney and litigator. General Counsel to the Illinois GOP. Past Chair of Chicago Bar Association Election Law Committee. Tweets are my own.\n",
      "Florida man arrested on #voterfraud charges.  DNA evidence used in connection with forged vote by mail ballots… https://t.co/XYv1APLgbG\n",
      "475110461 1 Jonathan Butcher serves as senior policy analyst at the Heritage Foundation and senior fellow at the Goldwater Institute. Tweets are my own.\n",
      "Hangin out at the Blind Willie McTell Blues Festival #blues #guitars https://t.co/m55A829MfJ\n",
      "20254699 1 Visiting Senior Fellow @RSI working on conservative urbanism and place. Spurs fan, NCSU+UChicago alum, ✞. jcoppage [at] rstreet (dot) org Tweets are my own\n",
      "@theshrillest remember when Shane Battier did it and it was part of the glowing Morey-ball profile\n",
      "1151326477 3 Husband. Father. Entrepreneur. National Security/Technology Dude.\n",
      "RT @e_kaspersky: @klonkitchen  https://t.co/2HKKMj7ab8\n",
      "18401723 0 Seth Morgan is a former Ohio State Representative, regular speaker, author, and business owner.\n",
      "RT @MaryTaylorOH: I appreciate the endorsement of the Conservative Party (Ohio). Conservatives all across the state and country are rallyin…\n",
      "1169477054 1 Editor of http://t.co/ywm0fYCtzJ (@DownsizeTheFeds) at the Cato Institute.\n",
      "After the GOP tax cuts, those at the top face much higher tax rates than others. https://t.co/GKca80Y4b9 https://t.co/21kQEdtKHS\n",
      "315977587 0 David Nelson, CFA - Chief Strategist, Belpointe Asset Mgmt. Frequent Guest - CNBC, Fox News, Fox Business, i24 News, Political & Financial News Contributor\n",
      "Rising $DXY not just hurting U.S. multi-nationals https://t.co/kaMUFTAtot\n",
      "3891878001 4 Senior Tax Correspondent for @Law360. PA/NJ attorney who loves running, lifting, eating, and traveling. Views are my own. 我说汉语. Hablo español. #Wesleyan\n",
      "RT @Richard_Asquith: US corporate tax rate cut to 21% balloons deficit over $1 trillion https://t.co/XizxjHSFpU\n",
      "30354991 1 Senator for California. Former CA Attorney General. Dedicated to fighting for justice & giving voice to the voiceless. Wife, s-mom, sister, aunt. Aspiring chef.\n",
      "Net Neutrality is paramount to the success of our economy. No one website should be prioritized over its competitor… https://t.co/v5Y62UH2K0\n",
      "3362913279 4 #Ethereum #Bitcoin energy markets, nonprofit education. Cofounder @codetoinspire | Member @consensys | Advisor @uport_me @airswap @gridplus_energy @virtue_poker\n",
      "RT @el33th4xor: @EtheriumToken Any community should be proud to have that smart penguin. And if I lost cred by talking to a smart penguin,…\n",
      "303447150 0 Founder and CEO of Crotega, inventor of the Interior Threat Suppression System. Author of The Fatal Link, a study of school shooters. Educational leader.\n",
      "RT @SusanDRichMD: At age 10, my daughter said-“Mommy, why do people on #TV want to make #babies with #FASD?” while watching an ad with youn…\n",
      "20018428 0 an eternal snack\n",
      "RT @LowKei_: Still not over this. https://t.co/deQt3ZfZVW\n",
      "74246742 0 \n",
      "RT @RobertBluey: Exclusive interview with @BetsyDeVosED: \"The last thing we want to see is another mandate from the federal level\" https://…\n",
      "344623522 0 Program Officer @IRIglobal in #Tunisia, Yale WCS Alumnae, chocolate & cheese lover, World Citizen. Opinions are my own— Tweet ≠endorsement\n",
      "Sondage Sigma : les indépendants 1ers, Ennahdha 2èmes et Nidaa 3èmes https://t.co/LpRrssVb9e\n",
      "25073877 1 45th President of the United States of America🇺🇸\n",
      "Thank you Cleveland, Ohio! https://t.co/ROEFRLY7jP\n",
      "174430338 0 Former Hoosier■Proud Grandma■\n",
      "#TrumpTrain\n",
      " #ArmyVet\n",
      "#Conservative #BackTheBlue #MAGA\n",
      " #2A #RedWaveRising  #American1st \n",
      "Haters will be 🚫 \n",
      " 🇺🇸 No DM/Lists!\n",
      "RT @mememayo96: Steve Hilton: Mueller Probe Is A Political Counter-Revolution To Overthrow Trump -- It Must Be Defeated #MuellerWitchHunt #…\n",
      "27223236 0 proud Dad of an Eagle Scout & a ballerina...Husband...Powahay District Commissioner...Coach....Car Guy...\n",
      "RT @NHL: Back and forth they went, but it's the @Capitals who take a 3-2 series lead.\n",
      "\n",
      "The game... nothing short of thrilling! #StanleyCup…\n",
      "26153445 0 Actor Producer Writer Director, ...otters Co-Founder Rooster Teeth Productions\n",
      "@Feelzabub Just don't borrow the money to invest.\n",
      "1949367794 3 Professor of ethics with degrees in economics, philosophy and theology. Proud father of Down syndrome boy. Rome Bureau Chief for Breitbart News.\n",
      "Shock Study: Climate Skeptics More ‘Eco-Friendly’ than Climate Alarmists https://t.co/SIomJS5KBc\n",
      "19486234 0 Retired DuPage County sheriffs deputy.  Offering current news, conservative political thought and opinion in an oft callous and uncaring manner.\n",
      "@North2North Absofreakinlutely\n",
      "29270179 0 Doctor en Economía/Autor. Casado, 3 hijos. Economista Jefe @TressisSV. Profesor @IEbusiness @IEB_Spain. Cons Ases @frdelpino. Comisionado Com Madrid Londres\n",
      "Los defensores de Marx deberían estar avergonzados \n",
      "\n",
      "Marx apologists should be red in the face.\n",
      " https://t.co/IcbVOK867o\n",
      "22703645 1 Host of \"Tucker Carlson Tonight\", weeknights at 8 PM ET on @FoxNews. Re-tweets are emphatic endorsements.\n",
      "The biggest threat to America isn't Putin, but China. Consider: China spies on us more than any other country. It's… https://t.co/FKSqEb7lOk\n",
      "18141232 0 Features editor @taskandpurpose • Instructor @NYUPrisonEd • Writer @newyorker, @nymag • Do not resuscitate\n",
      "Let it go already https://t.co/Si7sTud9xL\n",
      "807095 1 Where the conversation begins. Follow for breaking news, special reports, RTs of our journalists and more. Visit https://t.co/ghL9OoYKMM to share news tips.\n",
      "For decades, kids played on toxic ball fields in Red Hook. Some were closed in 2012, more in 2015. Locals wonder wh… https://t.co/gDjncVU6vO\n",
      "23022687 1 Father of two, @heidiscruz's husband, fighter for liberty. Representing the great state of Texas in the U.S. Senate.\n",
      "And now the Senate’s leading gun grabber is ALL IN for Beto O’Rourke. Joins Rosie, Franken, Schumer &amp; Elizabeth War… https://t.co/qFri4zslBZ\n",
      "17995040 1 EIC https://t.co/Jd8PhAEM3i, syndicated radio host and columnist, host of \"The Ben Shapiro Show,\" National Review, NYT bestseller\n",
      "RT @DeniseHalliganA: @AlphaAchillesX @benshapiro @jordanbpeterson It's so good.\n",
      "18916432 1 Office of the 54th Speaker of the House, Paul Ryan.\n",
      "RT @RepFredUpton: 48 States, including Michigan, seeing lower utility bills following tax reform https://t.co/KVlbob0Dx9\n",
      "1367531 1 America’s Strongest Primetime Lineup Anywhere! Follow America's #1 cable news network, delivering you breaking news, insightful analysis, and must-see videos.\n",
      ".@SecretaryAcosta: \"The Trump economy has created, since his election, 3.2 million new jobs.\" https://t.co/Q8R3zAgUiH\n",
      "233245164 0 scholar of Israeli politics and political thought.\n",
      "@JamesRHarrigan Banning all weapons is a contradiction in terms. In order to ban something you have to use weapons… https://t.co/0to7m4O1yx\n",
      "216881337 1 U.S. Senator for Kentucky | I fight for the Constitution, individual liberty and the freedoms that make this country great.\n",
      "RT @JoshJamesWUKY: .@RandPaul visits DV8 Kitchen in Lexington to meet with the owner and employees, and “learn more about their efforts to…\n",
      "15745368 1 US Senator for Florida. Follow @SenRubioPress for more updates.\n",
      "“I have told you this so that my joy may be in you &amp; your joy may be complete. This is my commandment:love one anot… https://t.co/fpMUVdyN35\n",
      "39344374 1 EVP of Development & Acquisitions The @Trump Organization, Father, Husband, Outdoorsman, In a past life Boardroom Advisor on The Apprentice\n",
      "@TyTalbot7115 Care to put your money where your mouth is?\n",
      "1074480192 1 Representing the State of Texas in the United States Senate.\n",
      "RT @SenTedCruz: \"Heroes like Stephen Willeford: that's Texas\" @NRA @AnnualMeetings #NRAAM https://t.co/GMFuviQPoR\n",
      "50769180 1 Mom, author, TV & Radio Host, The Ingraham Angle 10p ET Fox News, The Laura Ingraham Show, 9 to Noon ET https://t.co/Wu93dyjL6t. Retweets do not = Endorsements\n",
      "Wet wipes will be 'eliminated' in Britain under ministers' latest plan https://t.co/AHTBS03SAa via @MailOnline\n",
      "22203756 1 Vice President of the United States\n",
      "Wisconsin is Working! The economy is soaring and WI needs four more years of @ScottWalker! President… https://t.co/bMOVQihrO3\n",
      "471672239 1 Counselor to the President\n",
      "RT @WhiteHouse: President Trump recently received a letter from one OH resident, Mrs. Sharlene Thornton, who will be joining him in Clevela…\n",
      "27311044 1 Fox News contributor, Host of The Daily Briefing w Dana Perino, Co-host The Five, Fmr Press Sec to George W. Bush. Speaking opps: https://t.co/FV4pmiX4a0\n",
      "RT @NumbersMuncher: My (five year old) kid wants his dog to be a social media star, so he's declared if this picture gets 10,000 RTs/Likes…\n",
      "15450996 1 A public policy research organization dedicated to individual liberty, limited government, free markets, and peace.\n",
      "The United States, for decades amongst the most economically free countries in the world, now ranks 11th in the ann… https://t.co/fpRDCFiITG\n",
      "18646108 1 Bret Baier:Chief Political Anchor @FoxNews. Anchor & Executive Editor of @SpecialReport. NYT bestselling author. #ThreeDaysinJanuary book available now.\n",
      "RT @PGATOUR: Birdie. Birdie. Birdie.\n",
      "\n",
      "Here comes Phil Mickelson. https://t.co/wYKqgaMfkd\n",
      "24578794 1 “The best is yet to come. . . “ —Frank Sinatra\n",
      "Oh boy a taste of Washington DC here on Long Island! #TheSwamp Sunday afternoon Swamp movie https://t.co/BdW1lZNDWe\n",
      "19417492 1 Standing athwart history, yelling Stop. A magazine founded by the late William F. Buckley Jr. Snapchat & Instagram: NationalReview\n",
      "Liberal Democracy and Us https://t.co/NLKcBHRCLc https://t.co/L40ijYBYcb\n",
      "7702542 1 Nationally syndicated radio host. Bestselling author. #2A advocate. Born for the storm. All opinions mine. 🇺🇸\n",
      "Walking the floor at #NRAAM! Stopping by @keltecweapons @patriotmobile @blckriflecoffee ! I’ll be at the NRA booth… https://t.co/RJQw5gyOkN\n",
      "2755843506 4 Executive Director of the Center For A Free Cuba, frank.calzon@cubacenter.org\n",
      "Frank Calzon en MegaTV con Oscar Haza https://t.co/9D7bo7rakP\n",
      "71627462 1 Dog guy, columnist for LAT, Sr. Editor @NRO, Fellow AEI, NRI. Host: The Remnant Podcast: https://t.co/i1NwKsUmRr\n",
      "Author: Suicide of the West (April '18)\n",
      "RT @AEI: A new blockbuster study actually offers further evidence that family structure plays an important role in the racial gap in econom…\n",
      "41634520 1 TV Host Fox News Channel 9 PM EST. Nationally Syndicated Radio Host 3-6 PM EST. https://t.co/z23FRgA02S Retweets, Follows NOT endorsements! Due to hackings, no DM’s!\n",
      "Breaking from @SaraCarterDC https://t.co/aBOvNcIv6J\n"
     ]
    },
    {
     "name": "stdout",
     "output_type": "stream",
     "text": [
      "112047805 1 Sr. Political Analyst, Fox News Channel. Arguments welcome. Name callers & verbal abusers blocked.\n",
      "This brief interview should help you understand why @BretBaier is so popular. BTW, he gives me strokes, but I don’t… https://t.co/1d99orktXe\n",
      "15976697 2 Little brown woman. Big mouth. Wife. Mom. Entrepreneur. Geek. #ManitouIncline addict. Host of #michellemalkininvestigates on CRTV. #freedanielholtzclaw\n",
      "@PC1170 egad that sounds hellish. Like 7th circle of hell.\n",
      "91882544 1 🎥 filmmaker. 📚 author. 🎤 speaker. My bestselling book \"The Big Lie\" exposes the Left's biggest lie yet: calling conservatives Nazis to hide their fascism.\n",
      "RT @TheSilentLOUD: 💥 BOOM 💥 \n",
      "\n",
      "GUILTY: Rosie O'Donnell exposed for exact same crime that saw Dinesh D’Souza sentenced  to\n",
      "\n",
      "▪️5 yrs Probation…\n"
     ]
    }
   ],
   "source": [
    "\n",
    "    \n",
    "for item in dataDF['node']:\n",
    "   print item, kmodel.labels_[list(df['src']).index(item)], fileO[item]\n",
    "\n"
   ]
  },
  {
   "cell_type": "code",
   "execution_count": 72,
   "metadata": {},
   "outputs": [],
   "source": [
    "import prettytable\n",
    "pts = []\n",
    "\n",
    "\n",
    "for item in set(dataDF):\n",
    "    # Create a pretty table of tweet contents and any expanded urls\n",
    "    pt = prettytable.PrettyTable([\"ID\", \"Cluster ID\", \"Bio\"])\n",
    "    pt.align[\"Bio\"] = \"l\" # Left align bio\n",
    "    pt.max_width = 60 \n",
    "    pt.padding_width = 1 # One space between column edges and contents (default)\n",
    "    pts.append(pt)"
   ]
  },
  {
   "cell_type": "code",
   "execution_count": 93,
   "metadata": {},
   "outputs": [
    {
     "name": "stdout",
     "output_type": "stream",
     "text": [
      "+----+------------+-----+\n",
      "| ID | Cluster ID | Bio |\n",
      "+----+------------+-----+\n",
      "+----+------------+-----+\n"
     ]
    }
   ],
   "source": [
    "\n",
    "for pt in pts:\n",
    "    print pt"
   ]
  },
  {
   "cell_type": "code",
   "execution_count": 126,
   "metadata": {},
   "outputs": [],
   "source": [
    "# Bigram Analysis\n",
    "\n",
    "import string\n",
    "\n",
    "import nltk\n",
    "from nltk.collocations import *\n",
    "from nltk.tokenize import RegexpTokenizer\n",
    "from nltk.corpus import stopwords\n",
    "\n",
    "# Stopwords common with twitter\n",
    "my_stopwords = stopwords.words('english')\n",
    "my_stopwords = my_stopwords + ['http', 'https', 'bit', 'ly', 'co', 'rt', 'rts', 'com', 'org', 'dot', 'go', 'via', 'follow', 'us', 'follow', 'retweet', 'also', 'run']\n",
    "\n",
    "def preProcess(text):\n",
    "    text = text.lower()\n",
    "    tokenizer = RegexpTokenizer(r'\\w+')\n",
    "    tokens = tokenizer.tokenize(text)\n",
    "    filtered_words = [w for w in tokens if not w in my_stopwords and not w.isdigit() and len(w) > 2]\n",
    "    return \" \".join(filtered_words)\n",
    "\n",
    "def getBigrams(content, threshold=5):\n",
    "    tokens = nltk.wordpunct_tokenize(preProcess(content))\n",
    "    bigram_measures = nltk.collocations.BigramAssocMeasures()\n",
    "    finder = BigramCollocationFinder.from_words(tokens)\n",
    "    finder.apply_freq_filter(threshold)\n",
    "    scored = finder.score_ngrams(bigram_measures.raw_freq)\n",
    "    return sorted([ (bigram, score) for (bigram, score) in scored ], key=lambda t: t[1], reverse=True)"
   ]
  },
  {
   "cell_type": "code",
   "execution_count": 132,
   "metadata": {},
   "outputs": [
    {
     "name": "stdout",
     "output_type": "stream",
     "text": [
      "           id  clusteridx                                                bio  \\\n",
      "0      807095         1.0  Where the conversation begins. Follow for brea...   \n",
      "1     1367531         1.0  America’s Strongest Primetime Lineup Anywhere!...   \n",
      "2     7702542         1.0   Nationally syndicated radio host. Bestselling...   \n",
      "3    15450996         1.0  A public policy research organization dedicate...   \n",
      "4    15745368         1.0  US Senator for Florida. Follow @SenRubioPress ...   \n",
      "5    15757578         1.0   President, Security Studies Group.    Former ...   \n",
      "6    15976697         2.0   Little brown woman. Big mouth. Wife. Mom. Ent...   \n",
      "7    17847906         0.0  Born USSR | raised Brooklyn. Columnist @nypost...   \n",
      "8    17995040         1.0  RT @DeniseHalliganA: @AlphaAchillesX @benshapi...   \n",
      "9    18089606         1.0  Fragging the Niedermeyer of conformity like a ...   \n",
      "10   18141232         0.0  Features editor @taskandpurpose • Instructor @...   \n",
      "11   18401723         0.0   Seth Morgan is a former Ohio State Representa...   \n",
      "12   18646108         1.0  Bret Baier:Chief Political Anchor @FoxNews. An...   \n",
      "13   18916432         1.0  Office of the 54th Speaker of the House, Paul ...   \n",
      "14   19346335         1.0  Activist, writer, podcast/web-series host, cul...   \n",
      "15   19417492         1.0  Standing athwart history, yelling Stop. A maga...   \n",
      "16   19486234         0.0  Retired DuPage County sheriffs deputy.  Offeri...   \n",
      "17   20018428         0.0   an eternal snack RT @LowKei_: Still not over ...   \n",
      "18   20254699         1.0  Visiting Senior Fellow @RSI working on conserv...   \n",
      "19   21759282         0.0  Vice President, Congressional Relations @icba ...   \n",
      "20   22203756         1.0   Vice President of the United States Wisconsin...   \n",
      "21   22703645         1.0  Host of \"Tucker Carlson Tonight\", weeknights a...   \n",
      "22   23022687         1.0  Father of two, @heidiscruz's husband, fighter ...   \n",
      "23   24578794         1.0   “The best is yet to come. . . “ —Frank Sinatra V   \n",
      "24   25073877         1.0   45th President of the United States of Americ...   \n",
      "25   26153445         0.0  Actor Producer Writer Director, ...otters Co-F...   \n",
      "26   27223236         0.0  proud Dad of an Eagle Scout & a ballerina...Hu...   \n",
      "27   27311044         1.0  Fox News contributor, Host of The Daily Briefi...   \n",
      "28   29270179         0.0  Doctor en Economía/Autor. Casado, 3 hijos. Eco...   \n",
      "29   29458079         1.0  Judge Pirro is a highly respected District Att...   \n",
      "..        ...         ...                                                ...   \n",
      "169       NaN         NaN                                                NaN   \n",
      "170       NaN         NaN                                                NaN   \n",
      "171       NaN         NaN                                                NaN   \n",
      "172       NaN         NaN                                                NaN   \n",
      "173       NaN         NaN                                                NaN   \n",
      "174       NaN         NaN                                                NaN   \n",
      "175       NaN         NaN                                                NaN   \n",
      "176       NaN         NaN                                                NaN   \n",
      "177       NaN         NaN                                                NaN   \n",
      "178       NaN         NaN                                                NaN   \n",
      "179       NaN         NaN                                                NaN   \n",
      "180       NaN         NaN                                                NaN   \n",
      "181       NaN         NaN                                                NaN   \n",
      "182       NaN         NaN                                                NaN   \n",
      "183       NaN         NaN                                                NaN   \n",
      "184       NaN         NaN                                                NaN   \n",
      "185       NaN         NaN                                                NaN   \n",
      "186       NaN         NaN                                                NaN   \n",
      "187       NaN         NaN                                                NaN   \n",
      "188       NaN         NaN                                                NaN   \n",
      "189       NaN         NaN                                                NaN   \n",
      "190       NaN         NaN                                                NaN   \n",
      "191       NaN         NaN                                                NaN   \n",
      "192       NaN         NaN                                                NaN   \n",
      "193       NaN         NaN                                                NaN   \n",
      "194       NaN         NaN                                                NaN   \n",
      "195       NaN         NaN                                                NaN   \n",
      "196       NaN         NaN                                                NaN   \n",
      "197       NaN         NaN                                                NaN   \n",
      "198       NaN         NaN                                                NaN   \n",
      "\n",
      "     Unnamed: 3  \n",
      "0           NaN  \n",
      "1           NaN  \n",
      "2           NaN  \n",
      "3           NaN  \n",
      "4           NaN  \n",
      "5           NaN  \n",
      "6           NaN  \n",
      "7           NaN  \n",
      "8           NaN  \n",
      "9           NaN  \n",
      "10          NaN  \n",
      "11          NaN  \n",
      "12          NaN  \n",
      "13          NaN  \n",
      "14          NaN  \n",
      "15          NaN  \n",
      "16          NaN  \n",
      "17          NaN  \n",
      "18          NaN  \n",
      "19          NaN  \n",
      "20          NaN  \n",
      "21          NaN  \n",
      "22          NaN  \n",
      "23          NaN  \n",
      "24          NaN  \n",
      "25          NaN  \n",
      "26          NaN  \n",
      "27          NaN  \n",
      "28          NaN  \n",
      "29          NaN  \n",
      "..          ...  \n",
      "169         NaN  \n",
      "170         NaN  \n",
      "171         NaN  \n",
      "172         NaN  \n",
      "173         NaN  \n",
      "174         NaN  \n",
      "175         NaN  \n",
      "176         NaN  \n",
      "177         NaN  \n",
      "178         NaN  \n",
      "179         NaN  \n",
      "180         NaN  \n",
      "181         NaN  \n",
      "182         NaN  \n",
      "183         NaN  \n",
      "184         NaN  \n",
      "185         NaN  \n",
      "186         NaN  \n",
      "187         NaN  \n",
      "188         NaN  \n",
      "189         NaN  \n",
      "190         NaN  \n",
      "191         NaN  \n",
      "192         NaN  \n",
      "193         NaN  \n",
      "194         NaN  \n",
      "195         NaN  \n",
      "196         NaN  \n",
      "197         NaN  \n",
      "198         NaN  \n",
      "\n",
      "[199 rows x 4 columns]\n"
     ]
    }
   ],
   "source": [
    "data = pd.read_csv('./Book.csv')\n",
    "print(data)"
   ]
  },
  {
   "cell_type": "code",
   "execution_count": 166,
   "metadata": {},
   "outputs": [
    {
     "data": {
      "image/png": "[encoded data removed]",
      "text/plain": [
       "<matplotlib.figure.Figure at 0x1a10077e10>"
      ]
     },
     "metadata": {},
     "output_type": "display_data"
    },
    {
     "data": {
      "image/png": "[encoded data removed]",
      "text/plain": [
       "<matplotlib.figure.Figure at 0x1a205d1590>"
      ]
     },
     "metadata": {},
     "output_type": "display_data"
    }
   ],
   "source": [
    "import csv\n",
    "from wordcloud import WordCloud\n",
    "\n",
    "\n",
    "#read first column of csv file to string of words seperated\n",
    "#by tab\n",
    "\n",
    "your_list = []\n",
    "with open('./bio only.csv', 'rb') as f:\n",
    "    reader = csv.reader(f)\n",
    "    your_list = '\\t'.join([i[0] for i in reader])\n",
    "\n",
    "\n",
    "# Generate a word cloud image\n",
    "wordcloud = WordCloud().generate(your_list)\n",
    "\n",
    "# Display the generated image:\n",
    "# the matplotlib way:\n",
    "import matplotlib.pyplot as plt\n",
    "plt.imshow(wordcloud, interpolation='bilinear')\n",
    "plt.axis(\"off\")\n",
    "\n",
    "# lower max_font_size\n",
    "wordcloud = WordCloud(max_font_size=10).generate(your_list)\n",
    "plt.figure()\n",
    "plt.imshow(wordcloud, interpolation=\"bilinear\")\n",
    "plt.axis(\"off\")\n",
    "plt.show()\n"
   ]
  },
  {
   "cell_type": "code",
   "execution_count": 162,
   "metadata": {},
   "outputs": [
    {
     "ename": "TypeError",
     "evalue": "'builtin_function_or_method' object is not iterable",
     "output_type": "error",
     "traceback": [
      "\u001b[0;31m---------------------------------------------------------------------------\u001b[0m",
      "\u001b[0;31mTypeError\u001b[0m                                 Traceback (most recent call last)",
      "\u001b[0;32m<ipython-input-162-cb25a341194b>\u001b[0m in \u001b[0;36m<module>\u001b[0;34m()\u001b[0m\n\u001b[1;32m      2\u001b[0m \u001b[0mbigrams\u001b[0m \u001b[0;34m=\u001b[0m \u001b[0;34m[\u001b[0m\u001b[0;34m]\u001b[0m\u001b[0;34m\u001b[0m\u001b[0m\n\u001b[1;32m      3\u001b[0m \u001b[0;34m\u001b[0m\u001b[0m\n\u001b[0;32m----> 4\u001b[0;31m \u001b[0;32mfor\u001b[0m \u001b[0mclusteridx\u001b[0m \u001b[0;32min\u001b[0m \u001b[0md\u001b[0m\u001b[0;34m:\u001b[0m\u001b[0;34m\u001b[0m\u001b[0m\n\u001b[0m\u001b[1;32m      5\u001b[0m     \u001b[0mgetBigrams\u001b[0m\u001b[0;34m(\u001b[0m\u001b[0md\u001b[0m\u001b[0;34m[\u001b[0m\u001b[0mclusteridx\u001b[0m\u001b[0;34m]\u001b[0m\u001b[0;34m)\u001b[0m\u001b[0;34m\u001b[0m\u001b[0m\n\u001b[1;32m      6\u001b[0m \u001b[0;34m\u001b[0m\u001b[0m\n",
      "\u001b[0;31mTypeError\u001b[0m: 'builtin_function_or_method' object is not iterable"
     ]
    }
   ],
   "source": [
    "\n",
    "bigrams = []\n",
    "\n",
    "for clusteridx in data:\n",
    "    getBigrams(data[clusteridx])\n",
    "\n",
    "# Create a pretty table \n",
    "bigram_pt = prettytable.PrettyTable([\"Cluster 0\", \"Cluster 1\", \"Cluster 2\", \"Cluster 3\"])\n",
    "bigram_pt.align[\"Cluster 0\"] = \"l\" \n",
    "bigram_pt.align[\"Cluster 1\"] = \"l\" \n",
    "bigram_pt.align[\"Cluster 2\"] = \"l\" \n",
    "bigram_pt.align[\"Cluster 3\"] = \"l\"     \n",
    "bigram_pt.max_width = 60 \n",
    "bigram_pt.padding_width = 1 \n",
    "\n",
    "for idx in range(len(bigrams[0])):\n",
    "    bigram_pt.add_row([\" \".join(bigram[idx][0]) for bigram in bigrams])\n",
    "\n",
    "\n",
    "print bigram_pt"
   ]
  },
  {
   "cell_type": "code",
   "execution_count": null,
   "metadata": {},
   "outputs": [],
   "source": []
  }
 ],
 "metadata": {
  "kernelspec": {
   "display_name": "Python 2",
   "language": "python",
   "name": "python2"
  },
  "language_info": {
   "codemirror_mode": {
    "name": "ipython",
    "version": 2
   },
   "file_extension": ".py",
   "mimetype": "text/x-python",
   "name": "python",
   "nbconvert_exporter": "python",
   "pygments_lexer": "ipython2",
   "version": "2.7.14"
  }
 },
 "nbformat": 4,
 "nbformat_minor": 2
}
